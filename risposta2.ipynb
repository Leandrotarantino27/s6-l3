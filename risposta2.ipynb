{
 "cells": [
  {
   "cell_type": "code",
   "execution_count": 46,
   "id": "53b3856a-c1e9-489a-85e2-87bb20a2a4d7",
   "metadata": {
    "tags": []
   },
   "outputs": [
    {
     "name": "stdout",
     "output_type": "stream",
     "text": [
      "   5.1  3.5  1.4  0.2  Iris-setosa\n",
      "0  4.9  3.0  1.4  0.2  Iris-setosa\n",
      "1  4.7  3.2  1.3  0.2  Iris-setosa\n",
      "2  4.6  3.1  1.5  0.2  Iris-setosa\n",
      "3  5.0  3.6  1.4  0.2  Iris-setosa\n",
      "4  5.4  3.9  1.7  0.4  Iris-setosa\n"
     ]
    }
   ],
   "source": [
    "import pandas as pd\n",
    "url = \"https://archive.ics.uci.edu/ml/machine-learning-databases/iris/iris.data\"\n",
    "df = pd.read_csv(url, header=0)\n",
    "print(df.head())"
   ]
  },
  {
   "cell_type": "code",
   "execution_count": 45,
   "id": "4eb86354-52b7-4960-bc36-630a729145ba",
   "metadata": {
    "tags": []
   },
   "outputs": [
    {
     "name": "stdout",
     "output_type": "stream",
     "text": [
      "Index(['5.1', '3.5', '1.4', '0.2', 'Iris-setosa'], dtype='object')\n"
     ]
    }
   ],
   "source": [
    "import pandas as pd\n",
    "url = \"https://archive.ics.uci.edu/ml/machine-learning-databases/iris/iris.data\"\n",
    "df = pd.read_csv(url, header=0)\n",
    "print(df.columns)"
   ]
  },
  {
   "cell_type": "code",
   "execution_count": 43,
   "id": "b87ac102-6efe-4f75-8134-db33e998d36c",
   "metadata": {
    "tags": []
   },
   "outputs": [
    {
     "name": "stdout",
     "output_type": "stream",
     "text": [
      "Le prime cinque righe del DataFrame Iris sono:\n",
      "   5.1  3.5  1.4  0.2  Iris-setosa\n",
      "0  4.9  3.0  1.4  0.2  Iris-setosa\n",
      "1  4.7  3.2  1.3  0.2  Iris-setosa\n",
      "2  4.6  3.1  1.5  0.2  Iris-setosa\n",
      "3  5.0  3.6  1.4  0.2  Iris-setosa\n",
      "4  5.4  3.9  1.7  0.4  Iris-setosa\n",
      "\n",
      "Le ultime dieci righe del DataFrame Iris sono:\n",
      "     5.1  3.5  1.4  0.2     Iris-setosa\n",
      "139  6.7  3.1  5.6  2.4  Iris-virginica\n",
      "140  6.9  3.1  5.1  2.3  Iris-virginica\n",
      "141  5.8  2.7  5.1  1.9  Iris-virginica\n",
      "142  6.8  3.2  5.9  2.3  Iris-virginica\n",
      "143  6.7  3.3  5.7  2.5  Iris-virginica\n",
      "144  6.7  3.0  5.2  2.3  Iris-virginica\n",
      "145  6.3  2.5  5.0  1.9  Iris-virginica\n",
      "146  6.5  3.0  5.2  2.0  Iris-virginica\n",
      "147  6.2  3.4  5.4  2.3  Iris-virginica\n",
      "148  5.9  3.0  5.1  1.8  Iris-virginica\n",
      "\n",
      "Riepilogo dei descrittori statistici del dataset Iris:\n",
      "              5.1         3.5         1.4         0.2\n",
      "count  149.000000  149.000000  149.000000  149.000000\n",
      "mean     5.848322    3.051007    3.774497    1.205369\n",
      "std      0.828594    0.433499    1.759651    0.761292\n",
      "min      4.300000    2.000000    1.000000    0.100000\n",
      "25%      5.100000    2.800000    1.600000    0.300000\n",
      "50%      5.800000    3.000000    4.400000    1.300000\n",
      "75%      6.400000    3.300000    5.100000    1.800000\n",
      "max      7.900000    4.400000    6.900000    2.500000\n"
     ]
    }
   ],
   "source": [
    "import pandas as pd\n",
    "\n",
    "url = 'https://archive.ics.uci.edu/ml/machine-learning-databases/iris/iris.data'\n",
    "iris_df = pd.read_csv(url, header=0)\n",
    "\n",
    "print(\"Le prime cinque righe del DataFrame Iris sono:\")\n",
    "print(iris_df.head())\n",
    "\n",
    "print(\"\\nLe ultime dieci righe del DataFrame Iris sono:\")\n",
    "print(iris_df.tail(10))\n",
    "\n",
    "print(\"\\nRiepilogo dei descrittori statistici del dataset Iris:\")\n",
    "print(iris_df.describe())"
   ]
  },
  {
   "cell_type": "code",
   "execution_count": null,
   "id": "53e97466-cf55-479e-a718-9a8237455886",
   "metadata": {},
   "outputs": [],
   "source": []
  }
 ],
 "metadata": {
  "kernelspec": {
   "display_name": "Python 3 (ipykernel)",
   "language": "python",
   "name": "python3"
  },
  "language_info": {
   "codemirror_mode": {
    "name": "ipython",
    "version": 3
   },
   "file_extension": ".py",
   "mimetype": "text/x-python",
   "name": "python",
   "nbconvert_exporter": "python",
   "pygments_lexer": "ipython3",
   "version": "3.11.5"
  }
 },
 "nbformat": 4,
 "nbformat_minor": 5
}
